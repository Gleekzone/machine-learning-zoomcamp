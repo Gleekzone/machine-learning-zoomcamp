{
  "nbformat": 4,
  "nbformat_minor": 0,
  "metadata": {
    "colab": {
      "provenance": []
    },
    "kernelspec": {
      "name": "python3",
      "display_name": "Python 3"
    },
    "language_info": {
      "name": "python"
    }
  },
  "cells": [
    {
      "cell_type": "markdown",
      "source": [
        "Q1. Pandas version"
      ],
      "metadata": {
        "id": "6Yj6M_EiJ2MX"
      }
    },
    {
      "cell_type": "code",
      "source": [
        "import pandas as pd"
      ],
      "metadata": {
        "id": "BAsApmNNJv--"
      },
      "execution_count": 2,
      "outputs": []
    },
    {
      "cell_type": "code",
      "source": [
        "pd.__version__"
      ],
      "metadata": {
        "colab": {
          "base_uri": "https://localhost:8080/",
          "height": 35
        },
        "id": "bkGllUtIKGsk",
        "outputId": "a1bfce52-d43d-44f9-fc9d-d8c73b53ab07"
      },
      "execution_count": 4,
      "outputs": [
        {
          "output_type": "execute_result",
          "data": {
            "text/plain": [
              "'2.1.4'"
            ],
            "application/vnd.google.colaboratory.intrinsic+json": {
              "type": "string"
            }
          },
          "metadata": {},
          "execution_count": 4
        }
      ]
    },
    {
      "cell_type": "markdown",
      "source": [
        "Q2. Records count"
      ],
      "metadata": {
        "id": "sYdUt-vCKV7X"
      }
    },
    {
      "cell_type": "code",
      "source": [
        "df_laptops = pd.read_csv('laptops.csv')"
      ],
      "metadata": {
        "id": "Y0vJfQGYLQGL"
      },
      "execution_count": 8,
      "outputs": []
    },
    {
      "cell_type": "code",
      "source": [
        "len(df_laptops)"
      ],
      "metadata": {
        "colab": {
          "base_uri": "https://localhost:8080/"
        },
        "id": "p_6LxVqGMOJx",
        "outputId": "7723ae7f-280a-4a41-b145-cfb1a67fc6c9"
      },
      "execution_count": 19,
      "outputs": [
        {
          "output_type": "execute_result",
          "data": {
            "text/plain": [
              "2160"
            ]
          },
          "metadata": {},
          "execution_count": 19
        }
      ]
    },
    {
      "cell_type": "markdown",
      "source": [
        "Q3. Laptop brands"
      ],
      "metadata": {
        "id": "MvcZEd4DNQ5W"
      }
    },
    {
      "cell_type": "code",
      "source": [
        "brands = df_laptops.groupby('Brand')"
      ],
      "metadata": {
        "id": "7ubNVuFJLuPU"
      },
      "execution_count": 17,
      "outputs": []
    },
    {
      "cell_type": "code",
      "source": [
        "len(brands)"
      ],
      "metadata": {
        "colab": {
          "base_uri": "https://localhost:8080/"
        },
        "id": "FIbpdxXpMcxl",
        "outputId": "73d63bf9-1b50-464f-f869-c8c2bd61be63"
      },
      "execution_count": 18,
      "outputs": [
        {
          "output_type": "execute_result",
          "data": {
            "text/plain": [
              "27"
            ]
          },
          "metadata": {},
          "execution_count": 18
        }
      ]
    },
    {
      "cell_type": "markdown",
      "source": [
        "Q4. Missing values"
      ],
      "metadata": {
        "id": "i-_N_bnhNTLi"
      }
    },
    {
      "cell_type": "code",
      "source": [
        "import numpy as np"
      ],
      "metadata": {
        "id": "aUCvIaBZNWPN"
      },
      "execution_count": 20,
      "outputs": []
    },
    {
      "cell_type": "code",
      "source": [
        "missing_values_count = df_laptops.isnull().sum()"
      ],
      "metadata": {
        "id": "7IX-bJYRNgMH"
      },
      "execution_count": 21,
      "outputs": []
    },
    {
      "cell_type": "code",
      "source": [
        "columns_with_missing_values = missing_values_count[missing_values_count > 0]"
      ],
      "metadata": {
        "id": "p6XnDnufNqWv"
      },
      "execution_count": 22,
      "outputs": []
    },
    {
      "cell_type": "code",
      "source": [
        "len(columns_with_missing_values)"
      ],
      "metadata": {
        "colab": {
          "base_uri": "https://localhost:8080/"
        },
        "id": "Gm22wUzHNxj9",
        "outputId": "d11ec47e-42e4-482c-b922-798bdbad93be"
      },
      "execution_count": 23,
      "outputs": [
        {
          "output_type": "execute_result",
          "data": {
            "text/plain": [
              "3"
            ]
          },
          "metadata": {},
          "execution_count": 23
        }
      ]
    },
    {
      "cell_type": "markdown",
      "source": [
        "Q5. Maximum final price. What's the maximum final price of Dell notebooks in the dataset?"
      ],
      "metadata": {
        "id": "ycyoMicUN5_a"
      }
    },
    {
      "cell_type": "code",
      "source": [
        "dell_laptops = df_laptops[df_laptops['Brand'] == 'Dell']"
      ],
      "metadata": {
        "id": "FerEVdwXOd8B"
      },
      "execution_count": 26,
      "outputs": []
    },
    {
      "cell_type": "code",
      "source": [
        "dell_laptops['Final Price'].max()"
      ],
      "metadata": {
        "colab": {
          "base_uri": "https://localhost:8080/"
        },
        "id": "bChHJNRsOplm",
        "outputId": "bc07dbe1-f7d7-4f02-c91e-afd9d710ca84"
      },
      "execution_count": 30,
      "outputs": [
        {
          "output_type": "execute_result",
          "data": {
            "text/plain": [
              "3936.0"
            ]
          },
          "metadata": {},
          "execution_count": 30
        }
      ]
    },
    {
      "cell_type": "markdown",
      "source": [
        "Q6. Median value of Screen."
      ],
      "metadata": {
        "id": "3lFoEeNAPENU"
      }
    },
    {
      "cell_type": "code",
      "source": [
        "# Find the median value of Screen column in the dataset.\n",
        "df_laptops['Screen'].median()"
      ],
      "metadata": {
        "colab": {
          "base_uri": "https://localhost:8080/"
        },
        "id": "tgZzhYTJPJpG",
        "outputId": "243a33dd-7fec-4966-a772-8b6a947fe79e"
      },
      "execution_count": 31,
      "outputs": [
        {
          "output_type": "execute_result",
          "data": {
            "text/plain": [
              "15.6"
            ]
          },
          "metadata": {},
          "execution_count": 31
        }
      ]
    },
    {
      "cell_type": "code",
      "source": [
        "# Next, calculate the most frequent value of the same Screen column.\n",
        "df_laptops['Screen'].mode()[0]"
      ],
      "metadata": {
        "colab": {
          "base_uri": "https://localhost:8080/"
        },
        "id": "LEGSEHKMPTCN",
        "outputId": "e492912c-f1da-4ec8-8823-e1d639a0a4c3"
      },
      "execution_count": 33,
      "outputs": [
        {
          "output_type": "execute_result",
          "data": {
            "text/plain": [
              "15.6"
            ]
          },
          "metadata": {},
          "execution_count": 33
        }
      ]
    },
    {
      "cell_type": "code",
      "source": [
        "# Use fillna method to fill the missing values in Screen column with the most frequent value from the previous step.\n",
        "fill_missing_values = df_laptops['Screen'].fillna(df_laptops['Screen'].mode()[0], inplace=True)"
      ],
      "metadata": {
        "id": "ttUWJEpyPnPn"
      },
      "execution_count": 35,
      "outputs": []
    },
    {
      "cell_type": "code",
      "source": [
        "# Now, calculate the median value of Screen once again.\n",
        "df_laptops['Screen'].median()"
      ],
      "metadata": {
        "colab": {
          "base_uri": "https://localhost:8080/"
        },
        "id": "CFN6GOZPQCc2",
        "outputId": "3dbfe7e5-a2f2-4d22-d9dd-7ad0d6d27a7d"
      },
      "execution_count": 36,
      "outputs": [
        {
          "output_type": "execute_result",
          "data": {
            "text/plain": [
              "15.6"
            ]
          },
          "metadata": {},
          "execution_count": 36
        }
      ]
    },
    {
      "cell_type": "markdown",
      "source": [
        "Q7. Sum of weights"
      ],
      "metadata": {
        "id": "pDKrATYEQWZF"
      }
    },
    {
      "cell_type": "code",
      "source": [
        "# Select all the \"Innjoo\" laptops from the dataset.\n",
        "Innjoo_brand = df_laptops[df_laptops['Brand'] == 'Innjoo']"
      ],
      "metadata": {
        "id": "D32hbW45Qdjg"
      },
      "execution_count": 38,
      "outputs": []
    },
    {
      "cell_type": "code",
      "source": [
        "len(Innjoo_brand)"
      ],
      "metadata": {
        "colab": {
          "base_uri": "https://localhost:8080/"
        },
        "id": "mvQjCDyTQtQS",
        "outputId": "fd58ba92-3881-4ed7-c672-bbb0533eabf4"
      },
      "execution_count": 39,
      "outputs": [
        {
          "output_type": "execute_result",
          "data": {
            "text/plain": [
              "6"
            ]
          },
          "metadata": {},
          "execution_count": 39
        }
      ]
    },
    {
      "cell_type": "code",
      "source": [
        "# Select only columns RAM, Storage, Screen.\n",
        "innjoo_brand = Innjoo_brand[['RAM', 'Storage', 'Screen']]"
      ],
      "metadata": {
        "id": "s_bWsMlPQwZ8"
      },
      "execution_count": 44,
      "outputs": []
    },
    {
      "cell_type": "code",
      "source": [
        "# Get the underlying NumPy array. Let's call it X.\n",
        "X = innjoo_brand.values"
      ],
      "metadata": {
        "id": "hHLWuFp7Q21V"
      },
      "execution_count": 45,
      "outputs": []
    },
    {
      "cell_type": "code",
      "source": [
        "X"
      ],
      "metadata": {
        "colab": {
          "base_uri": "https://localhost:8080/"
        },
        "id": "4bad6yI4REIh",
        "outputId": "f117da51-5efe-45a9-d2a6-bba134cf8176"
      },
      "execution_count": 46,
      "outputs": [
        {
          "output_type": "execute_result",
          "data": {
            "text/plain": [
              "array([[  8. , 256. ,  15.6],\n",
              "       [  8. , 512. ,  15.6],\n",
              "       [  4. ,  64. ,  14.1],\n",
              "       [  6. ,  64. ,  14.1],\n",
              "       [  6. , 128. ,  14.1],\n",
              "       [  6. , 128. ,  14.1]])"
            ]
          },
          "metadata": {},
          "execution_count": 46
        }
      ]
    },
    {
      "cell_type": "code",
      "source": [
        "# Compute matrix-matrix multiplication between the transpose of X and X. To get the transpose, use X.T. Let's call the result XTX.\n",
        "XTX = X.T.dot(X)"
      ],
      "metadata": {
        "id": "B6h4Y6ceRNH_"
      },
      "execution_count": 47,
      "outputs": []
    },
    {
      "cell_type": "code",
      "source": [
        "print(XTX)"
      ],
      "metadata": {
        "colab": {
          "base_uri": "https://localhost:8080/"
        },
        "id": "WVzvfni3RZa1",
        "outputId": "6d2890ad-e5e6-493b-cfe3-abf9b1d1240e"
      },
      "execution_count": 48,
      "outputs": [
        {
          "output_type": "stream",
          "name": "stdout",
          "text": [
            "[[2.52000e+02 8.32000e+03 5.59800e+02]\n",
            " [8.32000e+03 3.68640e+05 1.73952e+04]\n",
            " [5.59800e+02 1.73952e+04 1.28196e+03]]\n"
          ]
        }
      ]
    },
    {
      "cell_type": "code",
      "source": [
        "# Compute the inverse of XTX.\n",
        "inverse_XTX = np.linalg.inv(XTX)"
      ],
      "metadata": {
        "id": "F_kpK9NVRcqt"
      },
      "execution_count": 49,
      "outputs": []
    },
    {
      "cell_type": "code",
      "source": [
        "print(inverse_XTX)"
      ],
      "metadata": {
        "colab": {
          "base_uri": "https://localhost:8080/"
        },
        "id": "vhhQvs7IRm8-",
        "outputId": "c8cbe346-843f-428c-ba38-04e6a69f4f90"
      },
      "execution_count": 50,
      "outputs": [
        {
          "output_type": "stream",
          "name": "stdout",
          "text": [
            "[[ 2.78025381e-01 -1.51791334e-03 -1.00809855e-01]\n",
            " [-1.51791334e-03  1.58286725e-05  4.48052175e-04]\n",
            " [-1.00809855e-01  4.48052175e-04  3.87214888e-02]]\n"
          ]
        }
      ]
    },
    {
      "cell_type": "code",
      "source": [
        "# Create an array y with values [1100, 1300, 800, 900, 1000, 1100]\n",
        "y = np.array([1100, 1300, 800, 900, 1000, 1100])"
      ],
      "metadata": {
        "id": "uB03sICfSHAp"
      },
      "execution_count": 51,
      "outputs": []
    },
    {
      "cell_type": "code",
      "source": [
        "# Multiply the inverse of XTX with the transpose of X, and then multiply the result by y. Call the result w.\n",
        "w = inverse_XTX.dot(X.T).dot(y)"
      ],
      "metadata": {
        "id": "g1WKc9xESQKF"
      },
      "execution_count": 53,
      "outputs": []
    },
    {
      "cell_type": "code",
      "source": [
        "w"
      ],
      "metadata": {
        "colab": {
          "base_uri": "https://localhost:8080/"
        },
        "id": "Q30yIW4RSh5v",
        "outputId": "4a98e070-15e9-4c7b-a338-a12172856e81"
      },
      "execution_count": 54,
      "outputs": [
        {
          "output_type": "execute_result",
          "data": {
            "text/plain": [
              "array([45.58076606,  0.42783519, 45.29127938])"
            ]
          },
          "metadata": {},
          "execution_count": 54
        }
      ]
    },
    {
      "cell_type": "code",
      "source": [
        "# What's the sum of all the elements of the result?\n",
        "w.sum().round(2)"
      ],
      "metadata": {
        "colab": {
          "base_uri": "https://localhost:8080/"
        },
        "id": "eYkS8rVhSoWd",
        "outputId": "b3b39551-228b-4dc1-cce1-db72362532b7"
      },
      "execution_count": 59,
      "outputs": [
        {
          "output_type": "execute_result",
          "data": {
            "text/plain": [
              "91.3"
            ]
          },
          "metadata": {},
          "execution_count": 59
        }
      ]
    }
  ]
}